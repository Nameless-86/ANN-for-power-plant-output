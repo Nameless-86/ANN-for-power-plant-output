{
  "nbformat": 4,
  "nbformat_minor": 0,
  "metadata": {
    "colab": {
      "name": "Copia de Artificial Neural Network",
      "provenance": [],
      "collapsed_sections": [],
      "toc_visible": true
    },
    "kernelspec": {
      "name": "python3",
      "display_name": "Python 3"
    }
  },
  "cells": [
    {
      "cell_type": "markdown",
      "metadata": {
        "id": "3cbb7fRy-eyr"
      },
      "source": [
        "## Artificial Neural Network\r\n"
      ]
    },
    {
      "cell_type": "markdown",
      "metadata": {
        "id": "8sNDnxE2-pwE"
      },
      "source": [
        "### Importing libraries"
      ]
    },
    {
      "cell_type": "code",
      "metadata": {
        "id": "tP26DVqJVU2x"
      },
      "source": [
        "import pandas as pd\r\n",
        "import numpy as np\r\n",
        "import tensorflow as tf\r\n",
        "#Information about the dataset\r\n",
        "#Column 1: Temperature (°C)\r\n",
        "#Column 2: Pressure (milibar)\r\n",
        "#Column 3: Humidity\r\n",
        "#Column 4: Exhaust Vacuum (cm Hg)\r\n",
        "#Column 5: Net electrical output (MW/h)"
      ],
      "execution_count": 9,
      "outputs": []
    },
    {
      "cell_type": "markdown",
      "metadata": {
        "id": "AG3FQEch-yuA"
      },
      "source": [
        "##Data Preprocessing"
      ]
    },
    {
      "cell_type": "markdown",
      "metadata": {
        "id": "-4zq8Mza_D9O"
      },
      "source": [
        "### Importing the dataset"
      ]
    },
    {
      "cell_type": "code",
      "metadata": {
        "colab": {
          "base_uri": "https://localhost:8080/"
        },
        "id": "AU28peivVh7q",
        "outputId": "081945fc-92c1-4a69-f6cf-f895af57471a"
      },
      "source": [
        "dataset = pd.read_excel(\"Folds5x2_pp.xlsx\")\r\n",
        "X = dataset.iloc[:,:-1].values\r\n",
        "y = dataset.iloc[:,-1].values\r\n",
        "print(X)\r\n",
        "print(y)"
      ],
      "execution_count": 10,
      "outputs": [
        {
          "output_type": "stream",
          "text": [
            "[[  14.96   41.76 1024.07   73.17]\n",
            " [  25.18   62.96 1020.04   59.08]\n",
            " [   5.11   39.4  1012.16   92.14]\n",
            " ...\n",
            " [  31.32   74.33 1012.92   36.48]\n",
            " [  24.48   69.45 1013.86   62.39]\n",
            " [  21.6    62.52 1017.23   67.87]]\n",
            "[463.26 444.37 488.56 ... 429.57 435.74 453.28]\n"
          ],
          "name": "stdout"
        }
      ]
    },
    {
      "cell_type": "markdown",
      "metadata": {
        "id": "VC6omXel_Up0"
      },
      "source": [
        "### Splitting the dataset into the Training set and Test set"
      ]
    },
    {
      "cell_type": "code",
      "metadata": {
        "id": "5TqtkcCDbirT"
      },
      "source": [
        "from sklearn.model_selection import train_test_split\r\n",
        "X_train, X_test, y_train, y_test = train_test_split(X, y, test_size = 0.2, random_state = 0)\r\n"
      ],
      "execution_count": 11,
      "outputs": []
    },
    {
      "cell_type": "markdown",
      "metadata": {
        "id": "_mSLlAT9_eyI"
      },
      "source": [
        "##Building the ANN"
      ]
    },
    {
      "cell_type": "markdown",
      "metadata": {
        "id": "CsBULd_f_wLY"
      },
      "source": [
        "### Initializing the ANN"
      ]
    },
    {
      "cell_type": "code",
      "metadata": {
        "id": "BNrmN6KVWPPE"
      },
      "source": [
        "ann = tf.keras.models.Sequential()"
      ],
      "execution_count": 12,
      "outputs": []
    },
    {
      "cell_type": "markdown",
      "metadata": {
        "id": "iitAFJS_ABUn"
      },
      "source": [
        "### Adding the input layer and the first hidden layer"
      ]
    },
    {
      "cell_type": "code",
      "metadata": {
        "id": "D3XNNBrNWUlq"
      },
      "source": [
        "ann.add(tf.keras.layers.Dense(units = 6, activation = \"relu\"))\r\n",
        "#Activation function Rectifier"
      ],
      "execution_count": 13,
      "outputs": []
    },
    {
      "cell_type": "markdown",
      "metadata": {
        "id": "-lb4kK_wAKbs"
      },
      "source": [
        "### Adding the second hidden layer"
      ]
    },
    {
      "cell_type": "code",
      "metadata": {
        "id": "6o_DN7MNWsxD"
      },
      "source": [
        "ann.add(tf.keras.layers.Dense(units = 6, activation = \"relu\"))"
      ],
      "execution_count": 14,
      "outputs": []
    },
    {
      "cell_type": "markdown",
      "metadata": {
        "id": "jwMOmKb3AdBY"
      },
      "source": [
        "### Adding the output layer"
      ]
    },
    {
      "cell_type": "code",
      "metadata": {
        "id": "2WLAvJ0jWuwj"
      },
      "source": [
        "ann.add(tf.keras.layers.Dense(units = 1))\r\n",
        "#No activation function because we are doing regression, the AF are more usefull for classification"
      ],
      "execution_count": 15,
      "outputs": []
    },
    {
      "cell_type": "markdown",
      "metadata": {
        "id": "fq7e4fF6A1yy"
      },
      "source": [
        "## Training the ANN"
      ]
    },
    {
      "cell_type": "markdown",
      "metadata": {
        "id": "qDeylAs2An25"
      },
      "source": [
        "### Compiling the ANN"
      ]
    },
    {
      "cell_type": "code",
      "metadata": {
        "id": "wDnjxWFLW-eq"
      },
      "source": [
        "ann.compile(optimizer = \"adam\", loss = \"mean_squared_error\")\r\n",
        "#Adam performs SGD (Stochastic gradient descent)"
      ],
      "execution_count": 18,
      "outputs": []
    },
    {
      "cell_type": "markdown",
      "metadata": {
        "id": "YjVuiybYOo7r"
      },
      "source": [
        "### Training the ANN model on the Training set"
      ]
    },
    {
      "cell_type": "code",
      "metadata": {
        "colab": {
          "base_uri": "https://localhost:8080/"
        },
        "id": "Or04BiNGXQHF",
        "outputId": "2d482d26-644f-4262-a7d4-348e2bae4bab"
      },
      "source": [
        "ann.fit(X_train, y_train, batch_size = 32, epochs = 100)"
      ],
      "execution_count": 19,
      "outputs": [
        {
          "output_type": "stream",
          "text": [
            "Epoch 1/100\n",
            "240/240 [==============================] - 1s 1ms/step - loss: 116128.5148\n",
            "Epoch 2/100\n",
            "240/240 [==============================] - 0s 980us/step - loss: 1304.3921\n",
            "Epoch 3/100\n",
            "240/240 [==============================] - 0s 1ms/step - loss: 480.5950\n",
            "Epoch 4/100\n",
            "240/240 [==============================] - 0s 1ms/step - loss: 477.3682\n",
            "Epoch 5/100\n",
            "240/240 [==============================] - 0s 986us/step - loss: 452.2976\n",
            "Epoch 6/100\n",
            "240/240 [==============================] - 0s 1ms/step - loss: 431.7132\n",
            "Epoch 7/100\n",
            "240/240 [==============================] - 0s 1ms/step - loss: 415.5189\n",
            "Epoch 8/100\n",
            "240/240 [==============================] - 0s 997us/step - loss: 396.0316\n",
            "Epoch 9/100\n",
            "240/240 [==============================] - 0s 1ms/step - loss: 372.6004\n",
            "Epoch 10/100\n",
            "240/240 [==============================] - 0s 943us/step - loss: 342.3387\n",
            "Epoch 11/100\n",
            "240/240 [==============================] - 0s 986us/step - loss: 309.7219\n",
            "Epoch 12/100\n",
            "240/240 [==============================] - 0s 975us/step - loss: 278.9514\n",
            "Epoch 13/100\n",
            "240/240 [==============================] - 0s 993us/step - loss: 254.4327\n",
            "Epoch 14/100\n",
            "240/240 [==============================] - 0s 1ms/step - loss: 224.4786\n",
            "Epoch 15/100\n",
            "240/240 [==============================] - 0s 1ms/step - loss: 197.9916\n",
            "Epoch 16/100\n",
            "240/240 [==============================] - 0s 955us/step - loss: 168.5899\n",
            "Epoch 17/100\n",
            "240/240 [==============================] - 0s 942us/step - loss: 140.9999\n",
            "Epoch 18/100\n",
            "240/240 [==============================] - 0s 976us/step - loss: 119.4459\n",
            "Epoch 19/100\n",
            "240/240 [==============================] - 0s 1ms/step - loss: 99.2562\n",
            "Epoch 20/100\n",
            "240/240 [==============================] - 0s 1ms/step - loss: 79.9184\n",
            "Epoch 21/100\n",
            "240/240 [==============================] - 0s 1ms/step - loss: 66.9179\n",
            "Epoch 22/100\n",
            "240/240 [==============================] - 0s 1ms/step - loss: 56.5917\n",
            "Epoch 23/100\n",
            "240/240 [==============================] - 0s 1ms/step - loss: 48.1313\n",
            "Epoch 24/100\n",
            "240/240 [==============================] - 0s 946us/step - loss: 42.7954\n",
            "Epoch 25/100\n",
            "240/240 [==============================] - 0s 1ms/step - loss: 38.8682\n",
            "Epoch 26/100\n",
            "240/240 [==============================] - 0s 1ms/step - loss: 36.8134\n",
            "Epoch 27/100\n",
            "240/240 [==============================] - 0s 980us/step - loss: 34.2718\n",
            "Epoch 28/100\n",
            "240/240 [==============================] - 0s 969us/step - loss: 34.0681\n",
            "Epoch 29/100\n",
            "240/240 [==============================] - 0s 993us/step - loss: 31.6302\n",
            "Epoch 30/100\n",
            "240/240 [==============================] - 0s 1ms/step - loss: 31.6610\n",
            "Epoch 31/100\n",
            "240/240 [==============================] - 0s 1ms/step - loss: 30.2437\n",
            "Epoch 32/100\n",
            "240/240 [==============================] - 0s 984us/step - loss: 31.0354\n",
            "Epoch 33/100\n",
            "240/240 [==============================] - 0s 973us/step - loss: 28.8022\n",
            "Epoch 34/100\n",
            "240/240 [==============================] - 0s 1ms/step - loss: 29.1249\n",
            "Epoch 35/100\n",
            "240/240 [==============================] - 0s 1ms/step - loss: 29.1649\n",
            "Epoch 36/100\n",
            "240/240 [==============================] - 0s 964us/step - loss: 29.7230\n",
            "Epoch 37/100\n",
            "240/240 [==============================] - 0s 964us/step - loss: 29.9394\n",
            "Epoch 38/100\n",
            "240/240 [==============================] - 0s 974us/step - loss: 28.5842\n",
            "Epoch 39/100\n",
            "240/240 [==============================] - 0s 972us/step - loss: 28.8458\n",
            "Epoch 40/100\n",
            "240/240 [==============================] - 0s 990us/step - loss: 28.0195\n",
            "Epoch 41/100\n",
            "240/240 [==============================] - 0s 971us/step - loss: 28.3892\n",
            "Epoch 42/100\n",
            "240/240 [==============================] - 0s 983us/step - loss: 26.8712\n",
            "Epoch 43/100\n",
            "240/240 [==============================] - 0s 964us/step - loss: 28.1577\n",
            "Epoch 44/100\n",
            "240/240 [==============================] - 0s 1ms/step - loss: 26.6070\n",
            "Epoch 45/100\n",
            "240/240 [==============================] - 0s 992us/step - loss: 28.0601\n",
            "Epoch 46/100\n",
            "240/240 [==============================] - 0s 966us/step - loss: 27.6269\n",
            "Epoch 47/100\n",
            "240/240 [==============================] - 0s 999us/step - loss: 26.2101\n",
            "Epoch 48/100\n",
            "240/240 [==============================] - 0s 985us/step - loss: 27.0613\n",
            "Epoch 49/100\n",
            "240/240 [==============================] - 0s 937us/step - loss: 29.3568\n",
            "Epoch 50/100\n",
            "240/240 [==============================] - 0s 976us/step - loss: 26.9409\n",
            "Epoch 51/100\n",
            "240/240 [==============================] - 0s 1ms/step - loss: 27.1394\n",
            "Epoch 52/100\n",
            "240/240 [==============================] - 0s 1ms/step - loss: 26.8505\n",
            "Epoch 53/100\n",
            "240/240 [==============================] - 0s 979us/step - loss: 26.0674\n",
            "Epoch 54/100\n",
            "240/240 [==============================] - 0s 964us/step - loss: 27.4477\n",
            "Epoch 55/100\n",
            "240/240 [==============================] - 0s 1ms/step - loss: 27.0265\n",
            "Epoch 56/100\n",
            "240/240 [==============================] - 0s 998us/step - loss: 24.7076\n",
            "Epoch 57/100\n",
            "240/240 [==============================] - 0s 953us/step - loss: 27.5681\n",
            "Epoch 58/100\n",
            "240/240 [==============================] - 0s 953us/step - loss: 27.7223\n",
            "Epoch 59/100\n",
            "240/240 [==============================] - 0s 975us/step - loss: 28.0026\n",
            "Epoch 60/100\n",
            "240/240 [==============================] - 0s 988us/step - loss: 27.7663\n",
            "Epoch 61/100\n",
            "240/240 [==============================] - 0s 1ms/step - loss: 27.5170\n",
            "Epoch 62/100\n",
            "240/240 [==============================] - 0s 993us/step - loss: 28.0948\n",
            "Epoch 63/100\n",
            "240/240 [==============================] - 0s 966us/step - loss: 26.6881\n",
            "Epoch 64/100\n",
            "240/240 [==============================] - 0s 1ms/step - loss: 28.9501\n",
            "Epoch 65/100\n",
            "240/240 [==============================] - 0s 1ms/step - loss: 26.0806\n",
            "Epoch 66/100\n",
            "240/240 [==============================] - 0s 1ms/step - loss: 26.8927\n",
            "Epoch 67/100\n",
            "240/240 [==============================] - 0s 1ms/step - loss: 27.1143\n",
            "Epoch 68/100\n",
            "240/240 [==============================] - 0s 990us/step - loss: 26.5906\n",
            "Epoch 69/100\n",
            "240/240 [==============================] - 0s 1ms/step - loss: 27.8166\n",
            "Epoch 70/100\n",
            "240/240 [==============================] - 0s 1ms/step - loss: 26.9423\n",
            "Epoch 71/100\n",
            "240/240 [==============================] - 0s 1ms/step - loss: 26.7575\n",
            "Epoch 72/100\n",
            "240/240 [==============================] - 0s 1ms/step - loss: 26.7721\n",
            "Epoch 73/100\n",
            "240/240 [==============================] - 0s 1ms/step - loss: 26.2322\n",
            "Epoch 74/100\n",
            "240/240 [==============================] - 0s 967us/step - loss: 27.0724\n",
            "Epoch 75/100\n",
            "240/240 [==============================] - 0s 997us/step - loss: 25.9416\n",
            "Epoch 76/100\n",
            "240/240 [==============================] - 0s 1ms/step - loss: 27.3687\n",
            "Epoch 77/100\n",
            "240/240 [==============================] - 0s 1ms/step - loss: 26.9927\n",
            "Epoch 78/100\n",
            "240/240 [==============================] - 0s 1ms/step - loss: 26.4923\n",
            "Epoch 79/100\n",
            "240/240 [==============================] - 0s 976us/step - loss: 27.4027\n",
            "Epoch 80/100\n",
            "240/240 [==============================] - 0s 991us/step - loss: 26.1198\n",
            "Epoch 81/100\n",
            "240/240 [==============================] - 0s 1ms/step - loss: 26.5016\n",
            "Epoch 82/100\n",
            "240/240 [==============================] - 0s 1000us/step - loss: 26.4468\n",
            "Epoch 83/100\n",
            "240/240 [==============================] - 0s 1ms/step - loss: 26.2983\n",
            "Epoch 84/100\n",
            "240/240 [==============================] - 0s 1ms/step - loss: 27.4165\n",
            "Epoch 85/100\n",
            "240/240 [==============================] - 0s 1ms/step - loss: 26.3462\n",
            "Epoch 86/100\n",
            "240/240 [==============================] - 0s 995us/step - loss: 26.7433\n",
            "Epoch 87/100\n",
            "240/240 [==============================] - 0s 1ms/step - loss: 25.9795\n",
            "Epoch 88/100\n",
            "240/240 [==============================] - 0s 1ms/step - loss: 26.0933\n",
            "Epoch 89/100\n",
            "240/240 [==============================] - 0s 985us/step - loss: 26.3106\n",
            "Epoch 90/100\n",
            "240/240 [==============================] - 0s 999us/step - loss: 25.6026\n",
            "Epoch 91/100\n",
            "240/240 [==============================] - 0s 986us/step - loss: 27.2906\n",
            "Epoch 92/100\n",
            "240/240 [==============================] - 0s 1ms/step - loss: 25.8040\n",
            "Epoch 93/100\n",
            "240/240 [==============================] - 0s 1ms/step - loss: 26.8536\n",
            "Epoch 94/100\n",
            "240/240 [==============================] - 0s 990us/step - loss: 27.5975\n",
            "Epoch 95/100\n",
            "240/240 [==============================] - 0s 960us/step - loss: 26.0965\n",
            "Epoch 96/100\n",
            "240/240 [==============================] - 0s 1ms/step - loss: 25.9491\n",
            "Epoch 97/100\n",
            "240/240 [==============================] - 0s 1ms/step - loss: 25.9631\n",
            "Epoch 98/100\n",
            "240/240 [==============================] - 0s 955us/step - loss: 26.7128\n",
            "Epoch 99/100\n",
            "240/240 [==============================] - 0s 1ms/step - loss: 25.9651\n",
            "Epoch 100/100\n",
            "240/240 [==============================] - 0s 1ms/step - loss: 26.9165\n"
          ],
          "name": "stdout"
        },
        {
          "output_type": "execute_result",
          "data": {
            "text/plain": [
              "<tensorflow.python.keras.callbacks.History at 0x7f092bab3a10>"
            ]
          },
          "metadata": {
            "tags": []
          },
          "execution_count": 19
        }
      ]
    },
    {
      "cell_type": "markdown",
      "metadata": {
        "id": "0H0zKKNEBLD5"
      },
      "source": [
        "\r\n",
        "\r\n",
        "### Results of test set prediction"
      ]
    },
    {
      "cell_type": "code",
      "metadata": {
        "colab": {
          "base_uri": "https://localhost:8080/"
        },
        "id": "OXUNwtjRcMps",
        "outputId": "26af258a-2651-47d0-8249-6cd0712efb82"
      },
      "source": [
        "y_pred = ann.predict(X_test)\r\n",
        "np.set_printoptions(precision=2)\r\n",
        "print(np.concatenate((y_pred.reshape(len(y_pred),1), y_test.reshape(len(y_test),1)), 1))"
      ],
      "execution_count": 21,
      "outputs": [
        {
          "output_type": "stream",
          "text": [
            "[[432.01 431.23]\n",
            " [463.03 460.01]\n",
            " [466.51 461.14]\n",
            " ...\n",
            " [473.75 473.26]\n",
            " [440.56 438.  ]\n",
            " [459.75 463.28]]\n"
          ],
          "name": "stdout"
        }
      ]
    }
  ]
}